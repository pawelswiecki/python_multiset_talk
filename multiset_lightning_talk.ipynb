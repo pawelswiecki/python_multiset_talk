{
 "cells": [
  {
   "cell_type": "markdown",
   "metadata": {},
   "source": [
    "# Multiset\n",
    "\n",
    "### _aka_ bag, mset\n",
    "\n",
    "### _pl._ multizbiór, wielozbiór"
   ]
  },
  {
   "cell_type": "markdown",
   "metadata": {},
   "source": [
    "**Plan**\n",
    "\n",
    "1. Definiton of multiset\n",
    "\n",
    "2. Implementation of multiset\n",
    "\n",
    "3. Use cases of multiset"
   ]
  },
  {
   "cell_type": "markdown",
   "metadata": {},
   "source": [
    "# Definition"
   ]
  },
  {
   "cell_type": "markdown",
   "metadata": {},
   "source": [
    "It's \"a modification of the concept of a set that, unlike a set, **allows for multiple instances for each of its elements**\". [[source](https://en.wikipedia.org/wiki/Multiset)]"
   ]
  },
  {
   "cell_type": "markdown",
   "metadata": {},
   "source": [
    "But what _instance of an element_ means? \"Instance\" is not a programming term here. It means -- more or less -- occurrence, which... also is not very helpful. So let's say that two instances/occurrences an element means that both are **equal to each other**."
   ]
  },
  {
   "cell_type": "code",
   "execution_count": 1,
   "metadata": {},
   "outputs": [],
   "source": [
    "# two occurences of `1` are... `1` and `1`, becuase:\n",
    "assert 1 == 1\n",
    "\n",
    "# ;D"
   ]
  },
  {
   "cell_type": "markdown",
   "metadata": {},
   "source": [
    "To put it simply: **multiset is a set that can keep multiple equal elements**. "
   ]
  },
  {
   "cell_type": "markdown",
   "metadata": {},
   "source": [
    "So this is a multiset: `⟨1, 1, 2⟩`.\n",
    "\n",
    "Also, multisets written this way: `⟨1, 1, 2⟩`, `⟨1, 2, 1⟩`, `⟨2, 1, 1⟩`, are identical."
   ]
  },
  {
   "cell_type": "markdown",
   "metadata": {},
   "source": [
    "# Implementation"
   ]
  },
  {
   "cell_type": "markdown",
   "metadata": {},
   "source": [
    "What about the implementation?\n",
    "\n",
    "In terms of Python's collections, multiset is similar to: \n",
    "\n",
    "- `set` (as keeping insertion order is not required)\n",
    "\n",
    "- `list`/`tuple` (as both keep multiple \"equal\" elements)"
   ]
  },
  {
   "cell_type": "markdown",
   "metadata": {},
   "source": [
    "## Multiset as `list` / `tuple`"
   ]
  },
  {
   "cell_type": "markdown",
   "metadata": {},
   "source": [
    "First option: `list` (or `tuple`). It keeps insertion order, but it is not a requirement for multiset not to keep it."
   ]
  },
  {
   "cell_type": "markdown",
   "metadata": {},
   "source": [
    "So `[1, 1, 2, 2, 3]` and `[3, 1, 1, 2, 2]` would be both identical multisets.\n",
    "\n",
    "**Problems**\n",
    "\n",
    "1. There is no out-of-the-box way to check for identity (`[1, 2, 1] == [1, 1, 2]` will return `False`).\n",
    "\n",
    "2. We don't have any (optimized) set operations out-of-the-box.\n",
    "\n",
    "3. We cannot benfit from set's great feature: constant time (`O(1)`) membership checking.\n",
    "\n",
    "So generally implementing multiset using `list` or `tuple` sux."
   ]
  },
  {
   "cell_type": "markdown",
   "metadata": {},
   "source": [
    "## Multiset as `dict`"
   ]
  },
  {
   "cell_type": "markdown",
   "metadata": {},
   "source": [
    "Let's try a different approach: a dict with key of multiset element and value of list of all equal elements for a key.\n",
    "\n",
    "So multiset of `[42, 42, 51, 51, 60]` would be:"
   ]
  },
  {
   "cell_type": "code",
   "execution_count": 2,
   "metadata": {},
   "outputs": [
    {
     "data": {
      "text/plain": [
       "{42: [42, 42], 51: [51, 51], 60: [60]}"
      ]
     },
     "execution_count": 2,
     "metadata": {},
     "output_type": "execute_result"
    }
   ],
   "source": [
    " {\n",
    "     42: [42, 42],\n",
    "     51: [51, 51],\n",
    "     60: [60],\n",
    " }"
   ]
  },
  {
   "cell_type": "markdown",
   "metadata": {},
   "source": [
    "But why bother building a list of repeated identical elements if we can keep only a count them.\n",
    "\n",
    "In this implementation multiset of `[41, 41, 52, 52, 60]` would be:"
   ]
  },
  {
   "cell_type": "code",
   "execution_count": 3,
   "metadata": {},
   "outputs": [
    {
     "data": {
      "text/plain": [
       "{41: 2, 52: 2, 60: 1}"
      ]
     },
     "execution_count": 3,
     "metadata": {},
     "output_type": "execute_result"
    }
   ],
   "source": [
    "{\n",
    "    41: 2,\n",
    "    52: 2,\n",
    "    60: 1,\n",
    "}"
   ]
  },
  {
   "cell_type": "markdown",
   "metadata": {},
   "source": [
    "We would increment the count on adding new element to multiset and decrement it on removing."
   ]
  },
  {
   "cell_type": "markdown",
   "metadata": {},
   "source": [
    "## Multiset as `Counter`"
   ]
  },
  {
   "cell_type": "markdown",
   "metadata": {},
   "source": [
    "It turns out that we already have this kind of datatype in Python: `Counter`."
   ]
  },
  {
   "cell_type": "code",
   "execution_count": 4,
   "metadata": {},
   "outputs": [],
   "source": [
    "from collections import Counter"
   ]
  },
  {
   "cell_type": "code",
   "execution_count": 5,
   "metadata": {},
   "outputs": [
    {
     "data": {
      "text/plain": [
       "Counter({'apple': 3, 'banana': 1, 'pear': 1})"
      ]
     },
     "execution_count": 5,
     "metadata": {},
     "output_type": "execute_result"
    }
   ],
   "source": [
    "my_fruit = ['apple', 'banana', 'pear', 'apple', 'apple']\n",
    "\n",
    "my_fruit_counter = Counter(my_fruit)\n",
    "\n",
    "my_fruit_counter"
   ]
  },
  {
   "cell_type": "code",
   "execution_count": 6,
   "metadata": {},
   "outputs": [
    {
     "data": {
      "text/plain": [
       "Counter({'apple': 3, 'banana': 5, 'pear': 1})"
      ]
     },
     "execution_count": 6,
     "metadata": {},
     "output_type": "execute_result"
    }
   ],
   "source": [
    "my_fruit_counter['banana'] += 4\n",
    "my_fruit_counter"
   ]
  },
  {
   "cell_type": "code",
   "execution_count": 7,
   "metadata": {},
   "outputs": [
    {
     "data": {
      "text/plain": [
       "True"
      ]
     },
     "execution_count": 7,
     "metadata": {},
     "output_type": "execute_result"
    }
   ],
   "source": [
    "'pear' in my_fruit_counter"
   ]
  },
  {
   "cell_type": "markdown",
   "metadata": {},
   "source": [
    "### Constant time (`O(1)`) membership checking"
   ]
  },
  {
   "cell_type": "code",
   "execution_count": 38,
   "metadata": {},
   "outputs": [
    {
     "name": "stdout",
     "output_type": "stream",
     "text": [
      "106 ns ± 2.18 ns per loop (mean ± std. dev. of 7 runs, 10000000 loops each)\n"
     ]
    }
   ],
   "source": [
    "large_counter = Counter(range(10**6 + 1))\n",
    "number = 10**6\n",
    "%timeit number in large_counter"
   ]
  },
  {
   "cell_type": "markdown",
   "metadata": {},
   "source": [
    "In fact `Counter` inherits from `dict`, so it's not surprising ;)"
   ]
  },
  {
   "cell_type": "code",
   "execution_count": 39,
   "metadata": {},
   "outputs": [
    {
     "name": "stdout",
     "output_type": "stream",
     "text": [
      "11 ms ± 26.8 µs per loop (mean ± std. dev. of 7 runs, 100 loops each)\n"
     ]
    }
   ],
   "source": [
    "# compared to list\n",
    "large_list = list(range(10**6 + 1))\n",
    "number = 10**6\n",
    "%timeit number in large_list"
   ]
  },
  {
   "cell_type": "markdown",
   "metadata": {},
   "source": [
    "### Counter operations"
   ]
  },
  {
   "cell_type": "code",
   "execution_count": 10,
   "metadata": {},
   "outputs": [
    {
     "data": {
      "text/plain": [
       "Counter({'apple': 2, 'pear': 1, 'banana': 1})"
      ]
     },
     "execution_count": 10,
     "metadata": {},
     "output_type": "execute_result"
    }
   ],
   "source": [
    "apple_apple_pear_banana = Counter('apple apple pear banana'.split())\n",
    "apple_apple_pear_banana"
   ]
  },
  {
   "cell_type": "code",
   "execution_count": 11,
   "metadata": {},
   "outputs": [
    {
     "data": {
      "text/plain": [
       "Counter({'pear': 2, 'orange': 1})"
      ]
     },
     "execution_count": 11,
     "metadata": {},
     "output_type": "execute_result"
    }
   ],
   "source": [
    "pear_pear_orange = Counter('pear pear orange'.split())\n",
    "pear_pear_orange"
   ]
  },
  {
   "cell_type": "markdown",
   "metadata": {},
   "source": [
    "#### Equalily"
   ]
  },
  {
   "cell_type": "code",
   "execution_count": 12,
   "metadata": {},
   "outputs": [
    {
     "data": {
      "text/plain": [
       "False"
      ]
     },
     "execution_count": 12,
     "metadata": {},
     "output_type": "execute_result"
    }
   ],
   "source": [
    "apple_apple_pear_banana == pear_pear_orange"
   ]
  },
  {
   "cell_type": "code",
   "execution_count": 13,
   "metadata": {},
   "outputs": [
    {
     "data": {
      "text/plain": [
       "True"
      ]
     },
     "execution_count": 13,
     "metadata": {},
     "output_type": "execute_result"
    }
   ],
   "source": [
    "apple_apple_pear_banana == Counter('pear banana apple apple'.split())"
   ]
  },
  {
   "cell_type": "markdown",
   "metadata": {},
   "source": [
    "#### Add\n",
    "\n",
    "Add counts from two counters."
   ]
  },
  {
   "cell_type": "code",
   "execution_count": 14,
   "metadata": {},
   "outputs": [
    {
     "data": {
      "text/plain": [
       "Counter({'apple': 2, 'pear': 3, 'banana': 1, 'orange': 1})"
      ]
     },
     "execution_count": 14,
     "metadata": {},
     "output_type": "execute_result"
    }
   ],
   "source": [
    "apple_apple_pear_banana + pear_pear_orange"
   ]
  },
  {
   "cell_type": "markdown",
   "metadata": {},
   "source": [
    "#### Subtract\n",
    "\n",
    "Subtract count, but keep only results with positive counts."
   ]
  },
  {
   "cell_type": "code",
   "execution_count": 15,
   "metadata": {},
   "outputs": [
    {
     "data": {
      "text/plain": [
       "Counter({'apple': 2, 'banana': 1})"
      ]
     },
     "execution_count": 15,
     "metadata": {},
     "output_type": "execute_result"
    }
   ],
   "source": [
    "apple_apple_pear_banana - pear_pear_orange"
   ]
  },
  {
   "cell_type": "code",
   "execution_count": 16,
   "metadata": {},
   "outputs": [
    {
     "data": {
      "text/plain": [
       "Counter({'pear': 1, 'orange': 1})"
      ]
     },
     "execution_count": 16,
     "metadata": {},
     "output_type": "execute_result"
    }
   ],
   "source": [
    "pear_pear_orange - apple_apple_pear_banana"
   ]
  },
  {
   "cell_type": "markdown",
   "metadata": {},
   "source": [
    "#### Union\n",
    "\n",
    "Union is the maximum of value in either of the input counters."
   ]
  },
  {
   "cell_type": "code",
   "execution_count": 17,
   "metadata": {},
   "outputs": [
    {
     "data": {
      "text/plain": [
       "Counter({'apple': 2, 'pear': 2, 'banana': 1, 'orange': 1})"
      ]
     },
     "execution_count": 17,
     "metadata": {},
     "output_type": "execute_result"
    }
   ],
   "source": [
    "apple_apple_pear_banana | pear_pear_orange"
   ]
  },
  {
   "cell_type": "markdown",
   "metadata": {},
   "source": [
    "#### Intersection\n",
    "\n",
    "Intersection is the minimum of corresponding counts."
   ]
  },
  {
   "cell_type": "code",
   "execution_count": 18,
   "metadata": {},
   "outputs": [
    {
     "data": {
      "text/plain": [
       "Counter({'pear': 1})"
      ]
     },
     "execution_count": 18,
     "metadata": {},
     "output_type": "execute_result"
    }
   ],
   "source": [
    "apple_apple_pear_banana & pear_pear_orange"
   ]
  },
  {
   "cell_type": "markdown",
   "metadata": {},
   "source": [
    "#### Update\n",
    "\n",
    "Like `dict.update()` but add counts instead of replacing them.\n"
   ]
  },
  {
   "cell_type": "code",
   "execution_count": 19,
   "metadata": {},
   "outputs": [
    {
     "data": {
      "text/plain": [
       "Counter({'M': 1, 'o': 1, 'n': 1, 't': 1, 'y': 1})"
      ]
     },
     "execution_count": 19,
     "metadata": {},
     "output_type": "execute_result"
    }
   ],
   "source": [
    "c = Counter('Monty')\n",
    "c"
   ]
  },
  {
   "cell_type": "code",
   "execution_count": 20,
   "metadata": {},
   "outputs": [
    {
     "data": {
      "text/plain": [
       "Counter({'M': 1, 'o': 2, 'n': 2, 't': 2, 'y': 2, 'P': 1, 'h': 1})"
      ]
     },
     "execution_count": 20,
     "metadata": {},
     "output_type": "execute_result"
    }
   ],
   "source": [
    "c.update('Python')\n",
    "c"
   ]
  },
  {
   "cell_type": "markdown",
   "metadata": {},
   "source": [
    "#### Enumerating all elements"
   ]
  },
  {
   "cell_type": "code",
   "execution_count": 21,
   "metadata": {},
   "outputs": [
    {
     "data": {
      "text/plain": [
       "['apple', 'apple', 'pear', 'banana']"
      ]
     },
     "execution_count": 21,
     "metadata": {},
     "output_type": "execute_result"
    }
   ],
   "source": [
    "list((apple_apple_pear_banana.elements()))"
   ]
  },
  {
   "cell_type": "markdown",
   "metadata": {},
   "source": [
    "#### Most common elements"
   ]
  },
  {
   "cell_type": "code",
   "execution_count": 22,
   "metadata": {},
   "outputs": [],
   "source": [
    "c = Counter('Do you use static type hints in your code?')"
   ]
  },
  {
   "cell_type": "code",
   "execution_count": 23,
   "metadata": {},
   "outputs": [
    {
     "data": {
      "text/plain": [
       "[(' ', 8),\n",
       " ('o', 4),\n",
       " ('t', 4),\n",
       " ('y', 3),\n",
       " ('u', 3),\n",
       " ('s', 3),\n",
       " ('e', 3),\n",
       " ('i', 3),\n",
       " ('c', 2),\n",
       " ('n', 2),\n",
       " ('D', 1),\n",
       " ('a', 1),\n",
       " ('p', 1),\n",
       " ('h', 1),\n",
       " ('r', 1),\n",
       " ('d', 1),\n",
       " ('?', 1)]"
      ]
     },
     "execution_count": 23,
     "metadata": {},
     "output_type": "execute_result"
    }
   ],
   "source": [
    "c.most_common()"
   ]
  },
  {
   "cell_type": "code",
   "execution_count": 24,
   "metadata": {},
   "outputs": [
    {
     "data": {
      "text/plain": [
       "[(' ', 8), ('o', 4), ('t', 4)]"
      ]
     },
     "execution_count": 24,
     "metadata": {},
     "output_type": "execute_result"
    }
   ],
   "source": [
    "c.most_common(3)"
   ]
  },
  {
   "cell_type": "markdown",
   "metadata": {},
   "source": [
    "### Counter pros and cons"
   ]
  },
  {
   "cell_type": "markdown",
   "metadata": {},
   "source": [
    "#### Pros\n",
    "\n",
    "- blazingly fast membership checking (vs list/tuple)\n",
    "\n",
    "- equality checking (vs list/tuple)\n",
    "\n",
    "- additional operations: `+`, `-`, `&`, `|` (vs dict)\n",
    "\n",
    "#### Cons\n",
    "\n",
    "- Counter is a dict, so we cannot store there elements that are not hashable (vs list/tuple).\n",
    "\n",
    "- It's useless when we want to store all occurrences of equal elements (vs dict)."
   ]
  },
  {
   "cell_type": "markdown",
   "metadata": {},
   "source": [
    "So what if we want to store all occurrences of equal elements?"
   ]
  },
  {
   "cell_type": "code",
   "execution_count": 25,
   "metadata": {},
   "outputs": [],
   "source": [
    "class Person:    \n",
    "    def __init__(self, id_, name, nationality):\n",
    "        self.id_ = id_\n",
    "        self.name = name\n",
    "        self.nationality = nationality\n",
    "    \n",
    "    def __hash__(self):\n",
    "        return hash((self.id_, self.name))\n",
    "    \n",
    "    def __eq__(self, other):\n",
    "        if isinstance(other, Person):\n",
    "            return self.id_ == other.id_ and self.name == other.name\n",
    "        return False\n",
    "    \n",
    "    def __repr__(self):\n",
    "        return f'Person({self.id_}, {self.name}, {self.nationality})'"
   ]
  },
  {
   "cell_type": "code",
   "execution_count": 26,
   "metadata": {},
   "outputs": [],
   "source": [
    "p1 = Person(id_=1, name='Bob', nationality='US')\n",
    "p2 = Person(id_=1, name='Bob', nationality='UK')\n",
    "p3 = Person(id_=2, name='Kasia', nationality='PL')\n",
    "p4 = Person(id_=3, name='Taras', nationality='UA')"
   ]
  },
  {
   "cell_type": "code",
   "execution_count": 27,
   "metadata": {},
   "outputs": [
    {
     "data": {
      "text/plain": [
       "Counter({Person(1, Bob, US): 2,\n",
       "         Person(2, Kasia, PL): 1,\n",
       "         Person(3, Taras, UA): 1})"
      ]
     },
     "execution_count": 27,
     "metadata": {},
     "output_type": "execute_result"
    }
   ],
   "source": [
    "Counter([p1, p2, p3, p4])"
   ]
  },
  {
   "cell_type": "markdown",
   "metadata": {},
   "source": [
    "## Multidict with many occurrences of equal elements\n",
    "\n",
    "Wrapper on `defaultdict`."
   ]
  },
  {
   "cell_type": "code",
   "execution_count": 47,
   "metadata": {},
   "outputs": [],
   "source": [
    "from collections import defaultdict\n",
    "\n",
    "class Multiset:\n",
    "    def __init__(self, items=None):\n",
    "        self.__data = defaultdict(list)\n",
    "        items = items or []\n",
    "        for item in items:\n",
    "            self.__data[hash(item)].append(item)\n",
    "        \n",
    "    def __repr__(self):\n",
    "        return f'Multiset({dict(self.__data)})'\n",
    "    \n",
    "    def __contains__(self, other):\n",
    "        return hash(other) in self.__data\n",
    "    \n",
    "    def __eq__(self, other):\n",
    "        return self.__data == other.__data\n",
    "        \n",
    "    def update(self, items):\n",
    "        for item in items:\n",
    "            self.__data[hash(item)].append(item)\n",
    "            \n",
    "    def remove(self, item):\n",
    "        self.__data[hash(item)].remove(item)"
   ]
  },
  {
   "cell_type": "code",
   "execution_count": 48,
   "metadata": {},
   "outputs": [
    {
     "data": {
      "text/plain": [
       "Multiset({-1782423740351546067: ['a', 'a', 'a', 'a', 'a'], -1471118788425205866: ['b', 'b'], 8133629476857026148: ['r', 'r'], -8287738640347290112: ['c'], 3806206302144811855: ['d']})"
      ]
     },
     "execution_count": 48,
     "metadata": {},
     "output_type": "execute_result"
    }
   ],
   "source": [
    "Multiset('abracadabra')"
   ]
  },
  {
   "cell_type": "code",
   "execution_count": 49,
   "metadata": {
    "scrolled": true
   },
   "outputs": [
    {
     "data": {
      "text/plain": [
       "True"
      ]
     },
     "execution_count": 49,
     "metadata": {},
     "output_type": "execute_result"
    }
   ],
   "source": [
    "10 in Multiset([5, 7, 10])"
   ]
  },
  {
   "cell_type": "code",
   "execution_count": 50,
   "metadata": {},
   "outputs": [
    {
     "name": "stdout",
     "output_type": "stream",
     "text": [
      "Person(1, Bob, US)\n",
      "Person(1, Bob, UK)\n",
      "Person(2, Kasia, PL)\n",
      "Person(3, Taras, UA)\n"
     ]
    }
   ],
   "source": [
    "print(p1)\n",
    "print(p2)\n",
    "print(p3)\n",
    "print(p4)"
   ]
  },
  {
   "cell_type": "code",
   "execution_count": 51,
   "metadata": {},
   "outputs": [
    {
     "data": {
      "text/plain": [
       "True"
      ]
     },
     "execution_count": 51,
     "metadata": {},
     "output_type": "execute_result"
    }
   ],
   "source": [
    "p1 == p2"
   ]
  },
  {
   "cell_type": "code",
   "execution_count": 52,
   "metadata": {},
   "outputs": [
    {
     "data": {
      "text/plain": [
       "True"
      ]
     },
     "execution_count": 52,
     "metadata": {},
     "output_type": "execute_result"
    }
   ],
   "source": [
    "m1 = Multiset([10, 21, 21, 32])\n",
    "m2 = Multiset([10, 21, 21, 32])\n",
    "m1 == m2"
   ]
  },
  {
   "cell_type": "code",
   "execution_count": 53,
   "metadata": {},
   "outputs": [
    {
     "data": {
      "text/plain": [
       "Multiset({})"
      ]
     },
     "execution_count": 53,
     "metadata": {},
     "output_type": "execute_result"
    }
   ],
   "source": [
    "people = Multiset()\n",
    "people"
   ]
  },
  {
   "cell_type": "code",
   "execution_count": 33,
   "metadata": {},
   "outputs": [
    {
     "data": {
      "text/plain": [
       "Multiset({-251910950974417478: [Person(1, Bob, US)]})"
      ]
     },
     "execution_count": 33,
     "metadata": {},
     "output_type": "execute_result"
    }
   ],
   "source": [
    "people.update([p1])\n",
    "people"
   ]
  },
  {
   "cell_type": "code",
   "execution_count": 34,
   "metadata": {},
   "outputs": [
    {
     "data": {
      "text/plain": [
       "Multiset({-251910950974417478: [Person(1, Bob, US), Person(1, Bob, UK)]})"
      ]
     },
     "execution_count": 34,
     "metadata": {},
     "output_type": "execute_result"
    }
   ],
   "source": [
    "people.update([p2])\n",
    "people"
   ]
  },
  {
   "cell_type": "code",
   "execution_count": 35,
   "metadata": {},
   "outputs": [
    {
     "data": {
      "text/plain": [
       "Multiset({-251910950974417478: [Person(1, Bob, US), Person(1, Bob, UK)], 124825052286908048: [Person(2, Kasia, PL)]})"
      ]
     },
     "execution_count": 35,
     "metadata": {},
     "output_type": "execute_result"
    }
   ],
   "source": [
    "people.update([p3])\n",
    "people"
   ]
  },
  {
   "cell_type": "code",
   "execution_count": 36,
   "metadata": {},
   "outputs": [
    {
     "data": {
      "text/plain": [
       "Multiset({-251910950974417478: [Person(1, Bob, UK)], 124825052286908048: [Person(2, Kasia, PL)]})"
      ]
     },
     "execution_count": 36,
     "metadata": {},
     "output_type": "execute_result"
    }
   ],
   "source": [
    "people.remove(p1)\n",
    "people"
   ]
  },
  {
   "cell_type": "code",
   "execution_count": 37,
   "metadata": {},
   "outputs": [
    {
     "data": {
      "text/plain": [
       "Multiset({-251910950974417478: [], 124825052286908048: [Person(2, Kasia, PL)]})"
      ]
     },
     "execution_count": 37,
     "metadata": {},
     "output_type": "execute_result"
    }
   ],
   "source": [
    "people.remove(p2)\n",
    "people"
   ]
  },
  {
   "cell_type": "markdown",
   "metadata": {},
   "source": [
    "### Pros and cons\n",
    "\n",
    "#### Pros\n",
    "\n",
    "- Fast membership checking.\n",
    "\n",
    "- We can store multiple occurences of equal items\n",
    "\n",
    "#### Cos\n",
    "\n",
    "- No set operations included -- we need to add them ourselves.\n",
    "\n",
    "- It's a dict too -- we cannot store there elements that are not hashable (vs list/tuple).\n",
    "\n"
   ]
  },
  {
   "cell_type": "markdown",
   "metadata": {},
   "source": [
    "## Multidict use cases"
   ]
  },
  {
   "cell_type": "markdown",
   "metadata": {},
   "source": [
    "### Counter"
   ]
  },
  {
   "cell_type": "code",
   "execution_count": null,
   "metadata": {},
   "outputs": [],
   "source": []
  },
  {
   "cell_type": "markdown",
   "metadata": {},
   "source": [
    "### Multidict with copies"
   ]
  },
  {
   "cell_type": "code",
   "execution_count": null,
   "metadata": {},
   "outputs": [],
   "source": []
  }
 ],
 "metadata": {
  "kernelspec": {
   "display_name": "Python 3",
   "language": "python",
   "name": "python3"
  },
  "language_info": {
   "codemirror_mode": {
    "name": "ipython",
    "version": 3
   },
   "file_extension": ".py",
   "mimetype": "text/x-python",
   "name": "python",
   "nbconvert_exporter": "python",
   "pygments_lexer": "ipython3",
   "version": "3.6.5"
  }
 },
 "nbformat": 4,
 "nbformat_minor": 2
}
