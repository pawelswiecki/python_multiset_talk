{
 "cells": [
  {
   "cell_type": "markdown",
   "metadata": {},
   "source": [
    "# Multiset\n",
    "\n",
    "### _aka_ bag, mset\n",
    "\n",
    "### _pl._ multizbiór, wielozbiór"
   ]
  },
  {
   "cell_type": "markdown",
   "metadata": {},
   "source": [
    "**Plan**\n",
    "\n",
    "1. Definiton of multiset\n",
    "\n",
    "2. Implementation of multiset\n",
    "\n",
    "3. Use cases of multiset"
   ]
  },
  {
   "cell_type": "markdown",
   "metadata": {},
   "source": [
    "## Definition"
   ]
  },
  {
   "cell_type": "markdown",
   "metadata": {},
   "source": [
    "It's \"a modification of the concept of a set that, unlike a set, **allows for multiple instances for each of its elements**\". [[source](https://en.wikipedia.org/wiki/Multiset)]"
   ]
  },
  {
   "cell_type": "markdown",
   "metadata": {},
   "source": [
    "But what _instance of an element_ means? \"Instance\" is not a programming term here. It means -- more or less -- occurence, which... also is not very helpful. So let's say that two instances/occurences an element means that both are **equal to each other**."
   ]
  },
  {
   "cell_type": "code",
   "execution_count": 24,
   "metadata": {},
   "outputs": [],
   "source": [
    "# two occurences of `1` are... `1` and `1`, becuase:\n",
    "assert 1 == 1\n",
    "\n",
    "# ;D"
   ]
  },
  {
   "cell_type": "markdown",
   "metadata": {},
   "source": [
    "To put it simply: **multiset is a set that can keep multiple equal elements**. "
   ]
  },
  {
   "cell_type": "markdown",
   "metadata": {},
   "source": [
    "So this is a multiset: `⟨1, 1, 2⟩`.\n",
    "\n",
    "Also, multisets written this way: `⟨1, 1, 2⟩`, `⟨1, 2, 1⟩`, `⟨2, 1, 1⟩`, are identical."
   ]
  },
  {
   "cell_type": "markdown",
   "metadata": {},
   "source": [
    "## Implementation"
   ]
  },
  {
   "cell_type": "markdown",
   "metadata": {},
   "source": [
    "What about the implementation?\n",
    "\n",
    "In terms of Python's collections, multiset is similar to: \n",
    "\n",
    "- `set` (as keeping insertion order is not required)\n",
    "\n",
    "- `list`/`tuple` (as both keep multiple \"equal\" elements)"
   ]
  },
  {
   "cell_type": "markdown",
   "metadata": {},
   "source": [
    "### Multiset as `list` / `tuple`"
   ]
  },
  {
   "cell_type": "markdown",
   "metadata": {},
   "source": [
    "First option: `list` (or `tuple`). It keeps insertion order, but it is not a requirement for multiset not to keep it."
   ]
  },
  {
   "cell_type": "markdown",
   "metadata": {},
   "source": [
    "So `[1, 1, 2, 2, 3]` and `[3, 1, 1, 2, 2]` would be both identical multisets.\n",
    "\n",
    "**Problems**\n",
    "\n",
    "1. There is no out-of-the-box way to check for identity (`[1, 2, 1] == [1, 1, 2]` will return `False`).\n",
    "\n",
    "2. We don't have any set operations out-of-the-box.\n",
    "\n",
    "3. We cannot benfit from set's great feature: constant time (`O(1)`) membership checking.\n",
    "\n",
    "So generally implementing multiset using `list` or `tuple` sux."
   ]
  },
  {
   "cell_type": "markdown",
   "metadata": {},
   "source": [
    "### Multiset as `dict`"
   ]
  },
  {
   "cell_type": "markdown",
   "metadata": {},
   "source": [
    "Let's try a different approach: a dict with key of multiset element and value of list of all equal elements for a key.\n",
    "\n",
    "So multiset of `[42, 42, 51, 51, 60]` would be:"
   ]
  },
  {
   "cell_type": "code",
   "execution_count": 13,
   "metadata": {},
   "outputs": [
    {
     "data": {
      "text/plain": [
       "{42: [42, 42], 51: [51, 51], 60: [60]}"
      ]
     },
     "execution_count": 13,
     "metadata": {},
     "output_type": "execute_result"
    }
   ],
   "source": [
    " {\n",
    "     42: [42, 42],\n",
    "     51: [51, 51],\n",
    "     60: [60],\n",
    " }"
   ]
  },
  {
   "cell_type": "markdown",
   "metadata": {},
   "source": [
    "But why bother building a list of repeated identical elements if we can keep only a count them.\n",
    "\n",
    "In this implementation multiset of `[41, 41, 52, 52, 60]` would be:"
   ]
  },
  {
   "cell_type": "code",
   "execution_count": 17,
   "metadata": {},
   "outputs": [
    {
     "data": {
      "text/plain": [
       "{41: 2, 52: 2, 60: 1}"
      ]
     },
     "execution_count": 17,
     "metadata": {},
     "output_type": "execute_result"
    }
   ],
   "source": [
    "{\n",
    "    41: 2,\n",
    "    52: 2,\n",
    "    60: 1,\n",
    "}"
   ]
  },
  {
   "cell_type": "markdown",
   "metadata": {},
   "source": [
    "We would increment the count on adding new element to multiset and decrement it on removing."
   ]
  },
  {
   "cell_type": "markdown",
   "metadata": {},
   "source": [
    "### Multiset as `Counter`"
   ]
  },
  {
   "cell_type": "markdown",
   "metadata": {},
   "source": [
    "It turns out that we already have this kind of datatype in Python: `Counter`."
   ]
  },
  {
   "cell_type": "code",
   "execution_count": null,
   "metadata": {},
   "outputs": [],
   "source": []
  },
  {
   "cell_type": "markdown",
   "metadata": {},
   "source": [
    "Drawback: we cannot store in multiset elements what are not hashable (just like in case of Python's `set`)."
   ]
  },
  {
   "cell_type": "markdown",
   "metadata": {},
   "source": [
    "## Use cases"
   ]
  },
  {
   "cell_type": "markdown",
   "metadata": {},
   "source": [
    "???"
   ]
  },
  {
   "cell_type": "code",
   "execution_count": null,
   "metadata": {},
   "outputs": [],
   "source": []
  }
 ],
 "metadata": {
  "kernelspec": {
   "display_name": "Python 3",
   "language": "python",
   "name": "python3"
  },
  "language_info": {
   "codemirror_mode": {
    "name": "ipython",
    "version": 3
   },
   "file_extension": ".py",
   "mimetype": "text/x-python",
   "name": "python",
   "nbconvert_exporter": "python",
   "pygments_lexer": "ipython3",
   "version": "3.6.5"
  }
 },
 "nbformat": 4,
 "nbformat_minor": 2
}
